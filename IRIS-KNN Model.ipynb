{
 "cells": [
  {
   "cell_type": "code",
   "execution_count": 2,
   "metadata": {
    "collapsed": true
   },
   "outputs": [],
   "source": [
    "from sklearn.datasets import load_iris\n",
    "from sklearn.neighbors import KNeighborsClassifier\n",
    "import pandas as pd"
   ]
  },
  {
   "cell_type": "code",
   "execution_count": 16,
   "metadata": {
    "collapsed": false
   },
   "outputs": [
    {
     "name": "stdout",
     "output_type": "stream",
     "text": [
      "<bound method NDFrame.head of        0    1    2    3\n",
      "0    5.1  3.5  1.4  0.2\n",
      "1    4.9  3.0  1.4  0.2\n",
      "2    4.7  3.2  1.3  0.2\n",
      "3    4.6  3.1  1.5  0.2\n",
      "4    5.0  3.6  1.4  0.2\n",
      "5    5.4  3.9  1.7  0.4\n",
      "6    4.6  3.4  1.4  0.3\n",
      "7    5.0  3.4  1.5  0.2\n",
      "8    4.4  2.9  1.4  0.2\n",
      "9    4.9  3.1  1.5  0.1\n",
      "10   5.4  3.7  1.5  0.2\n",
      "11   4.8  3.4  1.6  0.2\n",
      "12   4.8  3.0  1.4  0.1\n",
      "13   4.3  3.0  1.1  0.1\n",
      "14   5.8  4.0  1.2  0.2\n",
      "15   5.7  4.4  1.5  0.4\n",
      "16   5.4  3.9  1.3  0.4\n",
      "17   5.1  3.5  1.4  0.3\n",
      "18   5.7  3.8  1.7  0.3\n",
      "19   5.1  3.8  1.5  0.3\n",
      "20   5.4  3.4  1.7  0.2\n",
      "21   5.1  3.7  1.5  0.4\n",
      "22   4.6  3.6  1.0  0.2\n",
      "23   5.1  3.3  1.7  0.5\n",
      "24   4.8  3.4  1.9  0.2\n",
      "25   5.0  3.0  1.6  0.2\n",
      "26   5.0  3.4  1.6  0.4\n",
      "27   5.2  3.5  1.5  0.2\n",
      "28   5.2  3.4  1.4  0.2\n",
      "29   4.7  3.2  1.6  0.2\n",
      "..   ...  ...  ...  ...\n",
      "120  6.9  3.2  5.7  2.3\n",
      "121  5.6  2.8  4.9  2.0\n",
      "122  7.7  2.8  6.7  2.0\n",
      "123  6.3  2.7  4.9  1.8\n",
      "124  6.7  3.3  5.7  2.1\n",
      "125  7.2  3.2  6.0  1.8\n",
      "126  6.2  2.8  4.8  1.8\n",
      "127  6.1  3.0  4.9  1.8\n",
      "128  6.4  2.8  5.6  2.1\n",
      "129  7.2  3.0  5.8  1.6\n",
      "130  7.4  2.8  6.1  1.9\n",
      "131  7.9  3.8  6.4  2.0\n",
      "132  6.4  2.8  5.6  2.2\n",
      "133  6.3  2.8  5.1  1.5\n",
      "134  6.1  2.6  5.6  1.4\n",
      "135  7.7  3.0  6.1  2.3\n",
      "136  6.3  3.4  5.6  2.4\n",
      "137  6.4  3.1  5.5  1.8\n",
      "138  6.0  3.0  4.8  1.8\n",
      "139  6.9  3.1  5.4  2.1\n",
      "140  6.7  3.1  5.6  2.4\n",
      "141  6.9  3.1  5.1  2.3\n",
      "142  5.8  2.7  5.1  1.9\n",
      "143  6.8  3.2  5.9  2.3\n",
      "144  6.7  3.3  5.7  2.5\n",
      "145  6.7  3.0  5.2  2.3\n",
      "146  6.3  2.5  5.0  1.9\n",
      "147  6.5  3.0  5.2  2.0\n",
      "148  6.2  3.4  5.4  2.3\n",
      "149  5.9  3.0  5.1  1.8\n",
      "\n",
      "[150 rows x 4 columns]>\n"
     ]
    }
   ],
   "source": [
    "iris_pd = load_iris()\n",
    "\n",
    "iris_pd = pd.DataFrame(iris_pd.data)\n",
    "print(iris_pd.head)\n"
   ]
  },
  {
   "cell_type": "code",
   "execution_count": 17,
   "metadata": {
    "collapsed": true
   },
   "outputs": [],
   "source": [
    "# predict function\n",
    "def predict(features):\n",
    "    '''\n",
    "    Docstring\n",
    "    '''\n",
    "    iris = load_iris() # Load the iris dataset\n",
    "    \n",
    "    # Create and fit an object based on the classifier\n",
    "    knn = KNeighborsClassifier()\n",
    "    knn.fit(iris.data, iris.target)\n",
    "    \n",
    "    \n",
    "    # return predictions\n",
    "    predictions = knn.predict(features)\n",
    "    if predictions[0] == 0:\n",
    "        prediction_fam = 'setosa'\n",
    "    elif predictions[0] == 1:\n",
    "        prediction_fam = 'versicolor'\n",
    "    elif predictions[0] == 2:\n",
    "        prediction_fam = 'virginica'\n",
    "    else:\n",
    "        prediction_fam = 'null'\n",
    "    \n",
    "    return prediction_fam"
   ]
  },
  {
   "cell_type": "code",
   "execution_count": 18,
   "metadata": {
    "collapsed": false
   },
   "outputs": [
    {
     "name": "stdout",
     "output_type": "stream",
     "text": [
      "Collecting eve\n",
      "  Downloading Eve-0.6.4.tar.gz (279kB)\n",
      "\u001b[K    100% |████████████████████████████████| 286kB 662kB/s \n",
      "\u001b[?25hCollecting cerberus<0.10,>=0.9.2 (from eve)\n",
      "  Downloading Cerberus-0.9.2.tar.gz\n",
      "Collecting events<0.3,>=0.2.1 (from eve)\n",
      "  Downloading Events-0.2.1.tar.gz\n",
      "Collecting simplejson<4.0,>=3.3.0 (from eve)\n",
      "  Downloading simplejson-3.8.2-cp35-cp35m-macosx_10_9_x86_64.whl (66kB)\n",
      "\u001b[K    100% |████████████████████████████████| 71kB 1.7MB/s \n",
      "\u001b[?25hCollecting werkzeug<0.11.4,>=0.9.4 (from eve)\n",
      "  Downloading Werkzeug-0.11.3-py2.py3-none-any.whl (305kB)\n",
      "\u001b[K    100% |████████████████████████████████| 307kB 1.5MB/s \n",
      "\u001b[?25hRequirement already satisfied (use --upgrade to upgrade): markupsafe<1.0,>=0.23 in /anaconda/envs/api-ml/lib/python3.5/site-packages (from eve)\n",
      "Requirement already satisfied (use --upgrade to upgrade): jinja2<3.0,>=2.7.2 in /anaconda/envs/api-ml/lib/python3.5/site-packages (from eve)\n",
      "Collecting itsdangerous<1.0,>=0.22 (from eve)\n",
      "Collecting flask<0.11,>=0.10.1 (from eve)\n",
      "  Downloading Flask-0.10.1.tar.gz (544kB)\n",
      "\u001b[K    100% |████████████████████████████████| 552kB 586kB/s \n",
      "\u001b[?25hCollecting pymongo>=3.2 (from eve)\n",
      "  Downloading pymongo-3.2.2-cp35-cp35m-macosx_10_6_intel.whl (268kB)\n",
      "\u001b[K    100% |████████████████████████████████| 276kB 505kB/s \n",
      "\u001b[?25hCollecting flask-pymongo>=0.4 (from eve)\n",
      "  Downloading Flask-PyMongo-0.4.1.tar.gz\n",
      "Building wheels for collected packages: eve, cerberus, events, flask, flask-pymongo\n",
      "  Running setup.py bdist_wheel for eve ... \u001b[?25l-\b \b\\\b \b|\b \b/\b \bdone\n",
      "\u001b[?25h  Stored in directory: /Users/israel/Library/Caches/pip/wheels/3f/ea/6b/e31060d4a9e21e4a148a68af3cbdafc44e15ce3cbc764f731a\n",
      "  Running setup.py bdist_wheel for cerberus ... \u001b[?25l-\b \b\\\b \bdone\n",
      "\u001b[?25h  Stored in directory: /Users/israel/Library/Caches/pip/wheels/40/bf/1d/f95b516ed8357c1996f4a599aabb04b3a80e581bb507484e43\n",
      "  Running setup.py bdist_wheel for events ... \u001b[?25l-\b \b\\\b \b|\b \bdone\n",
      "\u001b[?25h  Stored in directory: /Users/israel/Library/Caches/pip/wheels/56/04/c1/6bdc67f98103bf10d4280c7d8946f91981a21e50e3a6c5ddf0\n",
      "  Running setup.py bdist_wheel for flask ... \u001b[?25l-\b \b\\\b \b|\b \b/\b \bdone\n",
      "\u001b[?25h  Stored in directory: /Users/israel/Library/Caches/pip/wheels/b6/09/65/5fcf16f74f334a215447c26769e291c41883862fe0dc7c1430\n",
      "  Running setup.py bdist_wheel for flask-pymongo ... \u001b[?25l-\b \b\\\b \b|\b \bdone\n",
      "\u001b[?25h  Stored in directory: /Users/israel/Library/Caches/pip/wheels/a0/44/47/359020e57c5d8215df9f03b0971773d017274ae013b24c9343\n",
      "Successfully built eve cerberus events flask flask-pymongo\n",
      "Installing collected packages: cerberus, events, simplejson, werkzeug, itsdangerous, flask, pymongo, flask-pymongo, eve\n",
      "Successfully installed cerberus-0.9.2 eve-0.6.4 events-0.2.1 flask-0.10.1 flask-pymongo-0.4.1 itsdangerous-0.24 pymongo-3.2.2 simplejson-3.8.2 werkzeug-0.11.3\n"
     ]
    }
   ],
   "source": [
    "!pip install eve"
   ]
  },
  {
   "cell_type": "code",
   "execution_count": null,
   "metadata": {
    "collapsed": true
   },
   "outputs": [],
   "source": []
  }
 ],
 "metadata": {
  "kernelspec": {
   "display_name": "Python 3",
   "language": "python",
   "name": "python3"
  },
  "language_info": {
   "codemirror_mode": {
    "name": "ipython",
    "version": 3
   },
   "file_extension": ".py",
   "mimetype": "text/x-python",
   "name": "python",
   "nbconvert_exporter": "python",
   "pygments_lexer": "ipython3",
   "version": "3.5.1"
  }
 },
 "nbformat": 4,
 "nbformat_minor": 0
}
