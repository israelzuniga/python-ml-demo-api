{
 "cells": [
  {
   "cell_type": "code",
   "execution_count": null,
   "metadata": {
    "collapsed": true
   },
   "outputs": [],
   "source": [
    "# Print ID and content from this resource http://rest-service.guides.spring.io/greeting\n",
    "\n",
    "# load requests lib for accessing internet resources\n",
    "import requests\n",
    "url = 'http://rest-service.guides.spring.io/greeting'\n",
    "body = requests.get(url)\n",
    "\n",
    "# Slice the string \n",
    "id_obj = str(body_str[8:10])\n",
    "hello_str = str(body_str[22:35])\n",
    "\n",
    "# print the results\n",
    "print('ID es: ' + id_obj + '. Con cuerpo: ' + hello_str)"
   ]
  }
 ],
 "metadata": {
  "kernelspec": {
   "display_name": "Python 3",
   "language": "python",
   "name": "python3"
  },
  "language_info": {
   "codemirror_mode": {
    "name": "ipython",
    "version": 3
   },
   "file_extension": ".py",
   "mimetype": "text/x-python",
   "name": "python",
   "nbconvert_exporter": "python",
   "pygments_lexer": "ipython3",
   "version": "3.5.1"
  }
 },
 "nbformat": 4,
 "nbformat_minor": 0
}
